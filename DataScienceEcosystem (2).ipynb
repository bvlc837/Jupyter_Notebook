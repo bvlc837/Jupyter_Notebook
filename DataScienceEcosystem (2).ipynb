{
 "cells": [
  {
   "cell_type": "markdown",
   "id": "22336681-9161-420d-8c7a-a857fe956fde",
   "metadata": {},
   "source": [
    "# H1 Data Science Tools and Ecosystem "
   ]
  },
  {
   "cell_type": "markdown",
   "id": "fd417014-e1e2-4f8a-a23c-1271c75a92af",
   "metadata": {},
   "source": [
    "In this notebook, Data Science Tools and Ecosystem are summarized in the passive voice."
   ]
  },
  {
   "cell_type": "markdown",
   "id": "e2b88512-61cc-432f-a817-c68334ebc3ff",
   "metadata": {},
   "source": [
    "Some of the popular languages that Data Scientists use are:\n",
    "1. Python\n",
    "2. R\n",
    "3. C++"
   ]
  },
  {
   "cell_type": "markdown",
   "id": "1fed6e3c-a6b8-4104-88cd-8fd110ad0d11",
   "metadata": {},
   "source": [
    "Some of the commonly used libraries used by Data Scientists include: \n",
    "1. Pandas\n",
    "2. SciKit-learn\n",
    "3. Apache Spark\n",
    "4. Matplotlib"
   ]
  },
  {
   "cell_type": "markdown",
   "id": "02e78674-3d6d-42fc-a907-0e080491d932",
   "metadata": {},
   "source": [
    "| Data Science Tools |\n",
    "| ---- |\n",
    "| Jupyter Lab |\n",
    "| VS Code |\n",
    "| R Studio |"
   ]
  },
  {
   "cell_type": "markdown",
   "id": "d6026df0-1df0-4290-a45b-fcf777bc71db",
   "metadata": {},
   "source": [
    "### H3 Below are a few examples of evaluating arithmetic expressions in Python."
   ]
  },
  {
   "cell_type": "markdown",
   "id": "6a73390a-6584-4809-942e-e55310d1e4e2",
   "metadata": {},
   "source": [
    "__Objectives__\n",
    "* List popular languages for Data Science\n",
    "* List commonly used libraries in Data Science\n",
    "* Create a code cell to multiply and add numbers"
   ]
  },
  {
   "cell_type": "raw",
   "id": "58704b89-d7c6-4559-b5bc-b78ac491e80a",
   "metadata": {},
   "source": [
    "This is a simple arithmetic expression to multiply then add integers."
   ]
  },
  {
   "cell_type": "code",
   "execution_count": 9,
   "id": "0fe050f2-d335-4849-927e-2ebabd8f9c64",
   "metadata": {},
   "outputs": [
    {
     "data": {
      "text/plain": [
       "17"
      ]
     },
     "execution_count": 9,
     "metadata": {},
     "output_type": "execute_result"
    }
   ],
   "source": [
    "(3*4)+5"
   ]
  },
  {
   "cell_type": "raw",
   "id": "8b36a4b2-c980-40b9-8f7f-98cbae24c40c",
   "metadata": {},
   "source": [
    "This will convert 200 minutes to hours by dividing by 60."
   ]
  },
  {
   "cell_type": "code",
   "execution_count": 13,
   "id": "7add48e2-acd6-4224-89de-95312740c950",
   "metadata": {},
   "outputs": [
    {
     "data": {
      "text/plain": [
       "3.3333333333333335"
      ]
     },
     "execution_count": 13,
     "metadata": {},
     "output_type": "execute_result"
    }
   ],
   "source": [
    "200/60"
   ]
  },
  {
   "cell_type": "markdown",
   "id": "702b7d07-d848-49c8-9231-57a265c6a49b",
   "metadata": {},
   "source": [
    "## H2 Author\n",
    "Brittany"
   ]
  },
  {
   "cell_type": "code",
   "execution_count": null,
   "id": "1cd608c5-2de3-4915-bb08-48cbefe42921",
   "metadata": {},
   "outputs": [],
   "source": []
  }
 ],
 "metadata": {
  "kernelspec": {
   "display_name": "Python 3 (ipykernel)",
   "language": "python",
   "name": "python3"
  },
  "language_info": {
   "codemirror_mode": {
    "name": "ipython",
    "version": 3
   },
   "file_extension": ".py",
   "mimetype": "text/x-python",
   "name": "python",
   "nbconvert_exporter": "python",
   "pygments_lexer": "ipython3",
   "version": "3.12.4"
  }
 },
 "nbformat": 4,
 "nbformat_minor": 5
}
